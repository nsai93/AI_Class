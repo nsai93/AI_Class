{
  "nbformat": 4,
  "nbformat_minor": 0,
  "metadata": {
    "colab": {
      "provenance": [],
      "authorship_tag": "ABX9TyO6eY/NkoisVNXUVsw/3Cwx",
      "include_colab_link": true
    },
    "kernelspec": {
      "name": "python3",
      "display_name": "Python 3"
    },
    "language_info": {
      "name": "python"
    }
  },
  "cells": [
    {
      "cell_type": "markdown",
      "metadata": {
        "id": "view-in-github",
        "colab_type": "text"
      },
      "source": [
        "<a href=\"https://colab.research.google.com/github/nsai93/AI_Class/blob/main/03_List_Python_Programs_GFG.ipynb\" target=\"_parent\"><img src=\"https://colab.research.google.com/assets/colab-badge.svg\" alt=\"Open In Colab\"/></a>"
      ]
    },
    {
      "cell_type": "markdown",
      "source": [
        "### **List_Python_Programs_Question**"
      ],
      "metadata": {
        "id": "pazXrhXuIR7E"
      }
    },
    {
      "cell_type": "code",
      "source": [
        "# 1. Python program to interchange first and last elements in a list\n",
        "\n",
        "def swapList(lst):\n",
        "    lst[0],lst[len(lst) - 1] = lst[len(lst) - 1],lst[0]\n",
        "    return lst\n",
        "lst = [12, 35, 9, 56, 24]\n",
        "print(swapList(lst))"
      ],
      "metadata": {
        "colab": {
          "base_uri": "https://localhost:8080/"
        },
        "id": "c8i83BzeRETx",
        "outputId": "c13c4bcf-0b55-4002-d70e-b21121ea1f14"
      },
      "execution_count": null,
      "outputs": [
        {
          "output_type": "stream",
          "name": "stdout",
          "text": [
            "[24, 35, 9, 56, 12]\n"
          ]
        }
      ]
    },
    {
      "cell_type": "code",
      "source": [
        "# 2. Python program to swap two elements in a list\n",
        "\n",
        "def swap_any_two_element(lst,num1,num2):\n",
        "  lst[num1],lst[num2] = lst[num2],lst[num1]\n",
        "  return lst\n",
        "\n",
        "lst = [12,34,56,90,9,8,0,1]\n",
        "num1 = int(input(\"Enter the 1st swap number index : \"))\n",
        "num2 = int(input(\"Enter the 2nd swap number index : \"))\n",
        "\n",
        "\n",
        "print(\"New list after the swap of two number : \", swap_any_two_element(lst,num1,num2))\n"
      ],
      "metadata": {
        "colab": {
          "base_uri": "https://localhost:8080/"
        },
        "id": "ctR2StH-RqDE",
        "outputId": "72c0abed-1d18-4cf5-cceb-51333f94f8e5"
      },
      "execution_count": null,
      "outputs": [
        {
          "output_type": "stream",
          "name": "stdout",
          "text": [
            "Enter the 1st swap number index : 3\n",
            "Enter the 2nd swap number index : 5\n",
            "New list after the swap of two number :  [12, 34, 56, 8, 9, 90, 0, 1]\n"
          ]
        }
      ]
    },
    {
      "cell_type": "code",
      "source": [
        "#3. Python | Ways to find length of list\n",
        "lst = [12,34,56,90,9,8,0,1]\n",
        "count = 0\n",
        "for i in lst:\n",
        "  count = count + 1\n",
        "print(\"Length of lst :\", count)"
      ],
      "metadata": {
        "id": "2AW8EJIkyap0",
        "colab": {
          "base_uri": "https://localhost:8080/"
        },
        "outputId": "e9545ac7-dda5-4881-dea0-0af8cf0c5934"
      },
      "execution_count": null,
      "outputs": [
        {
          "output_type": "stream",
          "name": "stdout",
          "text": [
            "Length of lst : 8\n"
          ]
        }
      ]
    },
    {
      "cell_type": "code",
      "source": [
        "def length_of_lst(count):\n",
        "  count = 0\n",
        "  for i in lst:\n",
        "    count = count + 1\n",
        "  return count\n",
        "\n",
        "lst = [12,34,56,90,9,8,0,1]\n",
        "length_of_lst(count)"
      ],
      "metadata": {
        "colab": {
          "base_uri": "https://localhost:8080/"
        },
        "id": "S_xyTcQmoczy",
        "outputId": "a895dbb7-f369-40f1-9200-49cb4accbdcd"
      },
      "execution_count": null,
      "outputs": [
        {
          "output_type": "execute_result",
          "data": {
            "text/plain": [
              "8"
            ]
          },
          "metadata": {},
          "execution_count": 4
        }
      ]
    },
    {
      "cell_type": "code",
      "source": [
        "lst = [12,34,56,90,9,8,0,1]\n",
        "print(len(lst))"
      ],
      "metadata": {
        "colab": {
          "base_uri": "https://localhost:8080/"
        },
        "id": "kWpsT3Srt7j9",
        "outputId": "c67660a3-69a7-446d-83ea-8fea57fc2616"
      },
      "execution_count": null,
      "outputs": [
        {
          "output_type": "stream",
          "name": "stdout",
          "text": [
            "8\n"
          ]
        }
      ]
    },
    {
      "cell_type": "code",
      "source": [
        "#4. Python | Ways to check if element exists in list\n",
        "\n",
        "lst = [1,2,3,4,5,6]\n",
        "n = int(input())\n",
        "if n in lst:\n",
        "  print(\"Element exists in the list\")\n",
        "else:\n",
        "  print(\"Element not exists in the list \")"
      ],
      "metadata": {
        "colab": {
          "base_uri": "https://localhost:8080/"
        },
        "id": "5TcDYKc1uUhy",
        "outputId": "bba7bebc-abce-46cb-ac7d-5ef2622c48df"
      },
      "execution_count": null,
      "outputs": [
        {
          "output_type": "stream",
          "name": "stdout",
          "text": [
            "12\n",
            "Element not exists in the list \n"
          ]
        }
      ]
    },
    {
      "cell_type": "code",
      "source": [
        "def exist_element(lst,n):\n",
        "  if n in lst:\n",
        "    print(\"Element exists in the list\")\n",
        "  else:\n",
        "    print(\"Element not exists in the list \")\n",
        "\n",
        "n = int(input())\n",
        "lst = [1,2,3,4,5,6]\n",
        "exist_element(lst,n)"
      ],
      "metadata": {
        "colab": {
          "base_uri": "https://localhost:8080/"
        },
        "id": "7qMGMtZ3bE1k",
        "outputId": "dfbb1cd0-5465-4a1a-9529-bf5fbc2a0fd3"
      },
      "execution_count": null,
      "outputs": [
        {
          "output_type": "stream",
          "name": "stdout",
          "text": [
            "2\n",
            "Element exists in the list\n"
          ]
        }
      ]
    },
    {
      "cell_type": "code",
      "source": [
        "# Different ways to clear a list in Python\n",
        "lst = [1,2,3,4,5,6]\n",
        "lst.clear()\n",
        "print(\"new list is :\", lst)"
      ],
      "metadata": {
        "colab": {
          "base_uri": "https://localhost:8080/"
        },
        "id": "-YUVZbkpCouQ",
        "outputId": "781f837b-5e8e-41b9-9f92-e8126a77fa1e"
      },
      "execution_count": 5,
      "outputs": [
        {
          "output_type": "stream",
          "name": "stdout",
          "text": [
            "new list is : []\n"
          ]
        }
      ]
    },
    {
      "cell_type": "code",
      "source": [
        "#Python | Reversing a List\n",
        "\n",
        "lst = [0,3,1234,111,2,23,4,5,6]\n",
        "rsv_lst = []\n",
        "for i in range(len(lst)-1,-1,-1):\n",
        "  rsv_lst.append(lst[i])\n",
        "print(rsv_lst)"
      ],
      "metadata": {
        "colab": {
          "base_uri": "https://localhost:8080/"
        },
        "id": "E7pFY9FKCvXc",
        "outputId": "b686143a-98b6-4ac3-a9d8-ba3f9f905999"
      },
      "execution_count": 14,
      "outputs": [
        {
          "output_type": "stream",
          "name": "stdout",
          "text": [
            "[6, 5, 4, 23, 2, 111, 1234, 3, 0]\n"
          ]
        }
      ]
    },
    {
      "cell_type": "code",
      "source": [
        "def reversing_lst(rsv_lst):\n",
        "  rsv_lst = []\n",
        "  for i in range(len(lst)-1,-1,-1):\n",
        "    rsv_lst.append(lst[i])\n",
        "  return rsv_lst\n",
        "\n",
        "lst = [0,3,1234,111,2,23,4,5,6]\n",
        "reversing_lst(rsv_lst)"
      ],
      "metadata": {
        "colab": {
          "base_uri": "https://localhost:8080/"
        },
        "id": "3d7xFL_-DtEQ",
        "outputId": "95ba2e11-7183-422a-efab-3151b694f7f3"
      },
      "execution_count": 16,
      "outputs": [
        {
          "output_type": "execute_result",
          "data": {
            "text/plain": [
              "[6, 5, 4, 23, 2, 111, 1234, 3, 0]"
            ]
          },
          "metadata": {},
          "execution_count": 16
        }
      ]
    },
    {
      "cell_type": "code",
      "source": [
        "# Python program to find sum of elements in list\n",
        "\n",
        "def sum_lst_ele(lst):\n",
        "  Sum = 0\n",
        "  for i in lst:\n",
        "    Sum = Sum + i\n",
        "  return Sum\n",
        "\n",
        "lst = [1,2,3,4,5,6,7,10]\n",
        "print(\"Sum of element in list : \",sum_lst_ele(lst))"
      ],
      "metadata": {
        "colab": {
          "base_uri": "https://localhost:8080/"
        },
        "id": "p1wdFePVH4ia",
        "outputId": "a216ae62-342e-409e-d39e-f5836ba22800"
      },
      "execution_count": 24,
      "outputs": [
        {
          "output_type": "stream",
          "name": "stdout",
          "text": [
            "Sum of element in list :  38\n"
          ]
        }
      ]
    },
    {
      "cell_type": "code",
      "source": [
        "# Python | Multiply all numbers in the list\n",
        "\n",
        "def mul_lst_ele(lst):\n",
        "  mul = 1\n",
        "  for i in lst:\n",
        "    mul = mul * i\n",
        "  return mul\n",
        "\n",
        "lst = [1,2,3,4,2]\n",
        "print(\"Multiplication of  all numbers in list : \", mul_lst_ele(lst))"
      ],
      "metadata": {
        "colab": {
          "base_uri": "https://localhost:8080/"
        },
        "id": "Ig5N_EeeIzeC",
        "outputId": "a67f0560-c5b3-46db-b80d-b7961dc951c3"
      },
      "execution_count": 27,
      "outputs": [
        {
          "output_type": "stream",
          "name": "stdout",
          "text": [
            "Multiplication of  all numbers in list :  48\n"
          ]
        }
      ]
    },
    {
      "cell_type": "code",
      "source": [
        "# Python program to find smallest number in a list\n",
        "\n",
        "lst = [-120,2,3,4,5,0,-1,40,-88]\n",
        "\n",
        "\n",
        "temp = lst[0]\n",
        "for i in lst:\n",
        "  if i < temp:\n",
        "    temp = i\n",
        "print(temp)"
      ],
      "metadata": {
        "colab": {
          "base_uri": "https://localhost:8080/"
        },
        "id": "VApeTSgoLWIR",
        "outputId": "bb1ae1e6-1e06-4763-a7e0-e9cc1c2744b2"
      },
      "execution_count": 40,
      "outputs": [
        {
          "output_type": "stream",
          "name": "stdout",
          "text": [
            "-120\n"
          ]
        }
      ]
    },
    {
      "cell_type": "code",
      "source": [
        "def smallest_number_lst(lst):\n",
        "  temp = lst[0]\n",
        "  for i in lst:\n",
        "    if i < temp:\n",
        "      temp = i\n",
        "  return temp\n",
        "\n",
        "lst = [-12,2,3,4,5,0,-1,40,-88]\n",
        "print(\"Smallest element of list : \", smallest_number_lst(lst))"
      ],
      "metadata": {
        "colab": {
          "base_uri": "https://localhost:8080/"
        },
        "id": "VG6l4cCvNpMJ",
        "outputId": "39761985-0838-41f2-a64e-816888975835"
      },
      "execution_count": 45,
      "outputs": [
        {
          "output_type": "stream",
          "name": "stdout",
          "text": [
            "Smallest element of list :  -88\n"
          ]
        }
      ]
    },
    {
      "cell_type": "code",
      "source": [
        "# Python program to find largest number in a list\n",
        "def largest_number_lst(lst):\n",
        "  temp = lst[0]\n",
        "  for i in lst:\n",
        "    if i > temp:\n",
        "      temp = i\n",
        "  return temp\n",
        "\n",
        "lst = [120,2,3,4,5,0,-1,40,]\n",
        "print(\"Largest element of list : \", largest_number_lst(lst))"
      ],
      "metadata": {
        "colab": {
          "base_uri": "https://localhost:8080/"
        },
        "id": "HYAQaWIOSCh_",
        "outputId": "54cc2175-6bcd-463a-b951-cb9832e9cde7"
      },
      "execution_count": 47,
      "outputs": [
        {
          "output_type": "stream",
          "name": "stdout",
          "text": [
            "Largest element of list :  120\n"
          ]
        }
      ]
    },
    {
      "cell_type": "code",
      "source": [
        "# Python program to find second largest number in a list\n",
        "\n"
      ],
      "metadata": {
        "id": "fgTC5yYgSpQ_"
      },
      "execution_count": null,
      "outputs": []
    }
  ]
}