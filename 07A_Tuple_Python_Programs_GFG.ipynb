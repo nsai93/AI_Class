{
  "nbformat": 4,
  "nbformat_minor": 0,
  "metadata": {
    "colab": {
      "provenance": [],
      "authorship_tag": "ABX9TyPLn7I5gjF8Iwk7CcSKqwTw",
      "include_colab_link": true
    },
    "kernelspec": {
      "name": "python3",
      "display_name": "Python 3"
    },
    "language_info": {
      "name": "python"
    }
  },
  "cells": [
    {
      "cell_type": "markdown",
      "metadata": {
        "id": "view-in-github",
        "colab_type": "text"
      },
      "source": [
        "<a href=\"https://colab.research.google.com/github/nsai93/AI_Class/blob/main/07A_Tuple_Python_Programs_GFG.ipynb\" target=\"_parent\"><img src=\"https://colab.research.google.com/assets/colab-badge.svg\" alt=\"Open In Colab\"/></a>"
      ]
    },
    {
      "cell_type": "markdown",
      "source": [
        "**Tuple Python Programs Questions**"
      ],
      "metadata": {
        "id": "Fdi0jDZnAr4T"
      }
    },
    {
      "cell_type": "code",
      "source": [
        "#5. Python – Closest Pair to Kth index element in Tuple\n",
        "\n",
        "test_list = [(3, 4), (78, 76),(2, 3), (9, 8), (19, 23)]\n",
        "# initializing tuple\n",
        "tup = (17, 23)\n",
        "\n",
        "# initializing K\n",
        "K = 1\n",
        "\n",
        "idx = 0\n",
        "\n",
        "for i in range(len(test_list)):\n",
        "    if tup[0] in test_list[i]:\n",
        "        idx = i\n",
        "        break\n",
        "    elif tup[1] in test_list[i]:\n",
        "        idx = i\n",
        "        break\n",
        "\n",
        "min_diff = abs(idx - K)\n",
        "closest_pair = test_list[idx]\n",
        "\n",
        "for i in range(len(test_list)):\n",
        "    if tup[0] in test_list[i] or tup[1] in test_list[i]:\n",
        "        diff = abs(i - K)\n",
        "        if diff < min_diff:\n",
        "            min_diff = diff\n",
        "            closest_pair = test_list[i]\n",
        "\n",
        "print(\"Closest pair to Kth index element in Tuple is : \" + str(closest_pair))\n"
      ],
      "metadata": {
        "colab": {
          "base_uri": "https://localhost:8080/"
        },
        "id": "LXtcYCGr3Kqv",
        "outputId": "d51d55a5-a1eb-4988-bc4b-95d0efa5cc73"
      },
      "execution_count": null,
      "outputs": [
        {
          "output_type": "stream",
          "name": "stdout",
          "text": [
            "Closest pair to Kth index element in Tuple is : (19, 23)\n"
          ]
        }
      ]
    },
    {
      "cell_type": "code",
      "source": [
        "#6. Python – Join Tuples if similar initial element\n",
        "\n",
        "test_list = [(5, 6), (6, 7), (6, 8), (6, 10), (7, 13)]\n",
        "\n",
        "output = []\n",
        "initial_ele = []\n",
        "\n",
        "\n",
        "for i in test_list:\n",
        "  if i[0] not in initial_ele:\n",
        "    initial_ele.append(i[0])\n",
        "\n",
        "for j in initial_ele:\n",
        "  first = []\n",
        "  first.append(j)\n",
        "  for k in test_list:\n",
        "    if j == k[0]:\n",
        "      first.append(k[1])\n",
        "  output.append(tuple(first))\n",
        "\n",
        "print(output)\n"
      ],
      "metadata": {
        "colab": {
          "base_uri": "https://localhost:8080/"
        },
        "id": "1GiFr09Jbqwa",
        "outputId": "4dda04d7-ef93-4862-e980-59144e770d95"
      },
      "execution_count": null,
      "outputs": [
        {
          "output_type": "stream",
          "name": "stdout",
          "text": [
            "[(5, 6), (6, 7, 8, 10), (7, 13)]\n"
          ]
        }
      ]
    },
    {
      "cell_type": "code",
      "source": [
        "#7. Python – Extract digits from Tuple list\n",
        "\n",
        "test_list = [(15, 3), (3, 9), (1, 4)]\n",
        "result = []\n",
        "for sub in test_list:\n",
        "    for ele in sub:\n",
        "        ele_str = str(ele)\n",
        "        for chr in ele_str:\n",
        "            if chr not in result:\n",
        "                result.append(chr)\n",
        "print(\"The extracted digits : \", result)"
      ],
      "metadata": {
        "colab": {
          "base_uri": "https://localhost:8080/"
        },
        "id": "ErlV-obdlUSV",
        "outputId": "fb6dc442-38f3-4ef7-ff2c-e08928e0661e"
      },
      "execution_count": null,
      "outputs": [
        {
          "output_type": "stream",
          "name": "stdout",
          "text": [
            "The extracted digits :  ['1', '5', '3', '9', '4']\n"
          ]
        }
      ]
    },
    {
      "cell_type": "code",
      "source": [
        "#8. Python – All pair combinations of 2 tuples\n",
        "\n",
        "tuple1 = (10,8)\n",
        "tuple2 = (2,7)\n",
        "\n",
        "final_tuple = []\n",
        "\n",
        "for i in tuple1:\n",
        "  for j in tuple2:\n",
        "    final_tuple.append((i,j))\n",
        "    final_tuple.append((j,i))\n",
        "print(final_tuple)"
      ],
      "metadata": {
        "colab": {
          "base_uri": "https://localhost:8080/"
        },
        "id": "94shlmOotqiP",
        "outputId": "ced08903-4617-4cd4-cfdb-f1b23b7fa08d"
      },
      "execution_count": null,
      "outputs": [
        {
          "output_type": "stream",
          "name": "stdout",
          "text": [
            "[(10, 2), (2, 10), (10, 7), (7, 10), (8, 2), (2, 8), (8, 7), (7, 8)]\n"
          ]
        }
      ]
    },
    {
      "cell_type": "code",
      "source": [
        "#9. Python – Remove Tuples of Length K\n",
        "\n",
        "def remove_tuple_len(tup,length_tup):\n",
        "  final_tup = []\n",
        "  for i in tup:\n",
        "    if len(i) == length_tup:\n",
        "      pass\n",
        "    else:\n",
        "      final_tup.append(i)\n",
        "  return final_tup\n",
        "\n",
        "\n",
        "length_rmv = int(input(\"Enter the length of tuple : \"))\n",
        "test_list = [(4, 5), (4, ), (8, 6, 7), (1, ), (3, 4, 6, 7)]\n",
        "\n",
        "print(\"Final tuple list after removing tuple which equal to length : \", remove_tuple_len(test_list,length_rmv))\n"
      ],
      "metadata": {
        "colab": {
          "base_uri": "https://localhost:8080/"
        },
        "id": "HGaXoE1gGY2b",
        "outputId": "0be1d371-f6b2-4233-97c3-7a1c238b1669"
      },
      "execution_count": null,
      "outputs": [
        {
          "output_type": "stream",
          "name": "stdout",
          "text": [
            "Enter the length of tuple : 1\n",
            "Final tuple list after removing tuple which equal to length :  [(4, 5), (8, 6, 7), (3, 4, 6, 7)]\n"
          ]
        }
      ]
    },
    {
      "cell_type": "code",
      "source": [
        "#10. Sort a list of tuples by second Item\n",
        "\n",
        "def sort_tuple_second_ele(tup):\n",
        "\n",
        "  for i in range(0, len(tup)):\n",
        "      first = i\n",
        "      for j in range(i+1, len(tup)):\n",
        "          if tup[first][1] > tup[j][1]:\n",
        "              first = j\n",
        "      tup[i], tup[first] = tup[first], tup[i]\n",
        "  print(\"Sort a list of tuple by second element : \", tup)\n",
        "\n",
        "tup = [('adsd',10), ('adc', 2),('toy', 19), ('dhuhfd',8)]\n",
        "sort_tuple_second_ele(tup)"
      ],
      "metadata": {
        "colab": {
          "base_uri": "https://localhost:8080/"
        },
        "id": "UV8t_N4QabEC",
        "outputId": "578cf65a-1cd4-4b39-d833-223d909d8cf4"
      },
      "execution_count": null,
      "outputs": [
        {
          "output_type": "stream",
          "name": "stdout",
          "text": [
            "Sort a list of tuple by second element :  [('adc', 2), ('dhuhfd', 8), ('adsd', 10), ('toy', 19)]\n"
          ]
        }
      ]
    },
    {
      "cell_type": "code",
      "source": [
        "test_list = [('adsd',10), ('adc', 2),('toy', 19), ('dhuhfd',8)]\n",
        "\n",
        "#sorting by second item using sort()\n",
        "test_list.sort(key = lambda x: x[1])\n",
        "print(test_list)"
      ],
      "metadata": {
        "colab": {
          "base_uri": "https://localhost:8080/"
        },
        "id": "cdKfPWWWeAcq",
        "outputId": "cdb6a6ae-c4d1-4361-f04d-ef84ca92ad2d"
      },
      "execution_count": null,
      "outputs": [
        {
          "output_type": "stream",
          "name": "stdout",
          "text": [
            "[('adc', 2), ('dhuhfd', 8), ('adsd', 10), ('toy', 19)]\n"
          ]
        }
      ]
    },
    {
      "cell_type": "code",
      "source": [
        "# Python program to Order Tuples using external List\n",
        "\n",
        "# Python3 code to demonstrate working of\n",
        "# Order Tuples by List\n",
        "# Using dict() + list comprehension\n",
        "\n",
        "# initializing list\n",
        "test_list = [('Gfg', 3), ('best', 9), ('CS', 10), ('Geeks', 2)]\n",
        "\n",
        "# printing original list\n",
        "print(\"The original list is : \" + str(test_list))\n",
        "\n",
        "# initializing order list\n",
        "ord_list = ['Geeks', 'best', 'CS', 'Gfg']\n",
        "\n",
        "# Order Tuples by List\n",
        "# Using dict() + list comprehension\n",
        "temp = dict(test_list)\n",
        "res = [(key, temp[key]) for key in ord_list]\n",
        "\n",
        "# printing result\n",
        "print(\"The ordered tuple list : \" + str(res))\n"
      ],
      "metadata": {
        "id": "jk1OvmOZe0uy",
        "colab": {
          "base_uri": "https://localhost:8080/"
        },
        "outputId": "41dbe758-aa77-43b4-e970-8da1b88f546f"
      },
      "execution_count": null,
      "outputs": [
        {
          "output_type": "stream",
          "name": "stdout",
          "text": [
            "The original list is : [('Gfg', 3), ('best', 9), ('CS', 10), ('Geeks', 2)]\n",
            "The ordered tuple list : [('Geeks', 2), ('best', 9), ('CS', 10), ('Gfg', 3)]\n"
          ]
        }
      ]
    },
    {
      "cell_type": "code",
      "source": [
        "#Python – Flatten tuple of List to tuple\n",
        "\n",
        "# Python3 code to demonstrate working of\n",
        "# Flatten tuple of List to tuple\n",
        "# Using sum() + tuple()\n",
        "\n",
        "# initializing tuple\n",
        "test_tuple = ([5, 6], [6, 7, 8, 9], [3])\n",
        "\n",
        "# printing original tuple\n",
        "print(\"The original tuple : \" + str(test_tuple))\n",
        "\n",
        "# Flatten tuple of List to tuple\n",
        "# Using sum() + tuple()\n",
        "res = tuple(sum(test_tuple, []))\n",
        "\n",
        "# printing result\n",
        "print(\"The flattened tuple : \" + str(res))\n"
      ],
      "metadata": {
        "colab": {
          "base_uri": "https://localhost:8080/"
        },
        "id": "fDnN_g4m4FbU",
        "outputId": "adff742e-9f19-45d0-f49f-c19c302aa48c"
      },
      "execution_count": null,
      "outputs": [
        {
          "output_type": "stream",
          "name": "stdout",
          "text": [
            "The original tuple : ([5, 6], [6, 7, 8, 9], [3])\n",
            "The flattened tuple : (5, 6, 6, 7, 8, 9, 3)\n"
          ]
        }
      ]
    },
    {
      "cell_type": "code",
      "source": [
        "# Python – Convert Nested Tuple to Custom Key Dictionary\n",
        "\n",
        "# Python3 code to demonstrate working of\n",
        "# Convert Nested Tuple to Custom Key Dictionary\n",
        "# Using list comprehension + dictionary comprehension\n",
        "\n",
        "# initializing tuple\n",
        "test_tuple = ((4, 'Gfg', 10), (3, 'is', 8), (6, 'Best', 10))\n",
        "\n",
        "# printing original tuple\n",
        "print(\"The original tuple : \" + str(test_tuple))\n",
        "\n",
        "# Convert Nested Tuple to Custom Key Dictionary\n",
        "# Using list comprehension + dictionary comprehension\n",
        "res = [{'key': sub[0], 'value': sub[1], 'id': sub[2]}\n",
        "\t\t\t\t\t\t\tfor sub in test_tuple]\n",
        "\n",
        "# printing result\n",
        "print(\"The converted dictionary : \" + str(res))\n"
      ],
      "metadata": {
        "colab": {
          "base_uri": "https://localhost:8080/"
        },
        "id": "R7qOVzk84gRt",
        "outputId": "c5606f23-452f-41d2-8659-dda876c04d0b"
      },
      "execution_count": null,
      "outputs": [
        {
          "output_type": "stream",
          "name": "stdout",
          "text": [
            "The original tuple : ((4, 'Gfg', 10), (3, 'is', 8), (6, 'Best', 10))\n",
            "The converted dictionary : [{'key': 4, 'value': 'Gfg', 'id': 10}, {'key': 3, 'value': 'is', 'id': 8}, {'key': 6, 'value': 'Best', 'id': 10}]\n"
          ]
        }
      ]
    },
    {
      "cell_type": "code",
      "source": [
        "# Python Program for Binary Search (Recursive and Iterative)\n",
        "\n",
        "# Python 3 program for recursive binary search.\n",
        "# Modifications needed for the older Python 2 are found in comments.\n",
        "\n",
        "# Returns index of x in arr if present, else -1\n",
        "def binary_search(arr, low, high, x):\n",
        "\n",
        "\t# Check base case\n",
        "\tif high >= low:\n",
        "\n",
        "\t\tmid = (high + low) // 2\n",
        "\n",
        "\t\t# If element is present at the middle itself\n",
        "\t\tif arr[mid] == x:\n",
        "\t\t\treturn mid\n",
        "\n",
        "\t\t# If element is smaller than mid, then it can only\n",
        "\t\t# be present in left subarray\n",
        "\t\telif arr[mid] > x:\n",
        "\t\t\treturn binary_search(arr, low, mid - 1, x)\n",
        "\n",
        "\t\t# Else the element can only be present in right subarray\n",
        "\t\telse:\n",
        "\t\t\treturn binary_search(arr, mid + 1, high, x)\n",
        "\n",
        "\telse:\n",
        "\t\t# Element is not present in the array\n",
        "\t\treturn -1\n",
        "\n",
        "# Test array\n",
        "arr = [ 2, 3, 4, 10, 40 ]\n",
        "x = 10\n",
        "\n",
        "# Function call\n",
        "result = binary_search(arr, 0, len(arr)-1, x)\n",
        "\n",
        "if result != -1:\n",
        "\tprint(\"Element is present at index\", str(result))\n",
        "else:\n",
        "\tprint(\"Element is not present in array\")\n"
      ],
      "metadata": {
        "id": "ezm1gtnyeEbh",
        "colab": {
          "base_uri": "https://localhost:8080/"
        },
        "outputId": "dc37d60a-0b5a-4ef1-dc5e-ed739abcb5f3"
      },
      "execution_count": null,
      "outputs": [
        {
          "output_type": "stream",
          "name": "stdout",
          "text": [
            "Element is present at index 3\n"
          ]
        }
      ]
    },
    {
      "cell_type": "code",
      "source": [
        "# Python Program for Linear Search\n",
        "\n",
        "# Searching an element in a list/array in python\n",
        "# can be simply done using \\'in\\' operator\n",
        "# Example:\n",
        "# if x in arr:\n",
        "# print arr.index(x)\n",
        "\n",
        "# If you want to implement Linear Search in python\n",
        "\n",
        "# Linearly search x in arr[]\n",
        "# If x is present then return its location\n",
        "# else return -1\n",
        "\n",
        "def search(arr, x):\n",
        "\n",
        "\tfor i in range(len(arr)):\n",
        "\n",
        "\t\tif arr[i] == x:\n",
        "\t\t\treturn i\n",
        "\n",
        "\treturn -1\n"
      ],
      "metadata": {
        "id": "KegVu6-9AI6Q"
      },
      "execution_count": null,
      "outputs": []
    },
    {
      "cell_type": "code",
      "source": [
        "#Python Program for Recursive Insertion Sort\n",
        "\n",
        "# Recursive Python program for insertion sort\n",
        "\n",
        "# Recursive function to sort an array using insertion sort\n",
        "def insertionSortRecursive(arr, n):\n",
        "\t# base case\n",
        "\tif n <= 1:\n",
        "\t\treturn\n",
        "\n",
        "\t# Sort first n-1 elements\n",
        "\tinsertionSortRecursive(arr, n - 1)\n",
        "\n",
        "\t# Insert last element at its correct position in sorted array.\n",
        "\tlast = arr[n - 1]\n",
        "\tj = n - 2\n",
        "\n",
        "\t# Move elements of arr[0..i-1], that are\n",
        "\t# greater than key, to one position ahead\n",
        "\t# of their current position\n",
        "\twhile (j >= 0 and arr[j] > last):\n",
        "\t\tarr[j + 1] = arr[j]\n",
        "\t\tj = j - 1\n",
        "\tarr[j + 1] = last\n",
        "\n",
        "\n",
        "# Driver program to test insertion sort\n",
        "if __name__ == '__main__':\n",
        "\tA = [-7, 11, 6, 0, -3, 5, 10, 2]\n",
        "\tn = len(A)\n",
        "\tinsertionSortRecursive(A, n)\n",
        "\tprint(A)\n",
        "\n",
        "# Contributed by Harsh Valecha,\n",
        "# Edited by Abraar Masud Nafiz.\n"
      ],
      "metadata": {
        "id": "ySdt_nX75ydA"
      },
      "execution_count": null,
      "outputs": []
    },
    {
      "cell_type": "code",
      "source": [
        "#Python Program for Merge Sort\n",
        "\n",
        "# Python program for implementation of MergeSort\n",
        "\n",
        "# Merges two subarrays of arr[].\n",
        "# First subarray is arr[l..m]\n",
        "# Second subarray is arr[m+1..r]\n",
        "\n",
        "\n",
        "def merge(arr, l, m, r):\n",
        "\tn1 = m - l + 1\n",
        "\tn2 = r - m\n",
        "\n",
        "\t# create temp arrays\n",
        "\tL = [0] * (n1)\n",
        "\tR = [0] * (n2)\n",
        "\n",
        "\t# Copy data to temp arrays L[] and R[]\n",
        "\tfor i in range(0, n1):\n",
        "\t\tL[i] = arr[l + i]\n",
        "\n",
        "\tfor j in range(0, n2):\n",
        "\t\tR[j] = arr[m + 1 + j]\n",
        "\n",
        "\t# Merge the temp arrays back into arr[l..r]\n",
        "\ti = 0\t # Initial index of first subarray\n",
        "\tj = 0\t # Initial index of second subarray\n",
        "\tk = l\t # Initial index of merged subarray\n",
        "\n",
        "\twhile i < n1 and j < n2:\n",
        "\t\tif L[i] <= R[j]:\n",
        "\t\t\tarr[k] = L[i]\n",
        "\t\t\ti += 1\n",
        "\t\telse:\n",
        "\t\t\tarr[k] = R[j]\n",
        "\t\t\tj += 1\n",
        "\t\tk += 1\n",
        "\n",
        "\t# Copy the remaining elements of L[], if there\n",
        "\t# are any\n",
        "\twhile i < n1:\n",
        "\t\tarr[k] = L[i]\n",
        "\t\ti += 1\n",
        "\t\tk += 1\n",
        "\n",
        "\t# Copy the remaining elements of R[], if there\n",
        "\t# are any\n",
        "\twhile j < n2:\n",
        "\t\tarr[k] = R[j]\n",
        "\t\tj += 1\n",
        "\t\tk += 1\n",
        "\n",
        "# l is for left index and r is right index of the\n",
        "# sub-array of arr to be sorted\n",
        "\n",
        "\n",
        "def mergeSort(arr, l, r):\n",
        "\tif l < r:\n",
        "\n",
        "\t\t# Same as (l+r)//2, but avoids overflow for\n",
        "\t\t# large l and h\n",
        "\t\tm = l+(r-l)//2\n",
        "\n",
        "\t\t# Sort first and second halves\n",
        "\t\tmergeSort(arr, l, m)\n",
        "\t\tmergeSort(arr, m+1, r)\n",
        "\t\tmerge(arr, l, m, r)\n",
        "\n",
        "\n",
        "# Driver code to test above\n",
        "arr = [12, 11, 13, 5, 6, 7]\n",
        "n = len(arr)\n",
        "print(\"Given array is\")\n",
        "for i in range(n):\n",
        "\tprint(\"%d\" % arr[i],end=\" \")\n",
        "\n",
        "mergeSort(arr, 0, n-1)\n",
        "print(\"\\n\\nSorted array is\")\n",
        "for i in range(n):\n",
        "\tprint(\"%d\" % arr[i],end=\" \")\n",
        "\n",
        "# This code is contributed by Mohit Kumra\n"
      ],
      "metadata": {
        "colab": {
          "base_uri": "https://localhost:8080/"
        },
        "id": "9cu5XAoBmMem",
        "outputId": "d33cb50c-fe1d-47b9-f060-4b11c7c2eff6"
      },
      "execution_count": null,
      "outputs": [
        {
          "output_type": "stream",
          "name": "stdout",
          "text": [
            "Given array is\n",
            "12 11 13 5 6 7 \n",
            "\n",
            "Sorted array is\n",
            "5 6 7 11 12 13 "
          ]
        }
      ]
    },
    {
      "cell_type": "code",
      "source": [
        "# Python Program for Radix Sort\n",
        "# Python program for implementation of Radix Sort\n",
        "\n",
        "# A function to do counting sort of arr[] according to\n",
        "# the digit represented by exp.\n",
        "def countingSort(arr, exp1):\n",
        "\n",
        "\tn = len(arr)\n",
        "\n",
        "\t# The output array elements that will have sorted arr\n",
        "\toutput = [0] * (n)\n",
        "\n",
        "\t# initialize count array as 0\n",
        "\tcount = [0] * (10)\n",
        "\n",
        "\t# Store count of occurrences in count[]\n",
        "\tfor i in range(0, n):\n",
        "\t\tindex = (arr[i]/exp1)\n",
        "\t\tcount[int((index)%10)] += 1\n",
        "\n",
        "\t# Change count[i] so that count[i] now contains actual\n",
        "\t# position of this digit in output array\n",
        "\tfor i in range(1,10):\n",
        "\t\tcount[i] += count[i-1]\n",
        "\n",
        "\t# Build the output array\n",
        "\ti = n-1\n",
        "\twhile i>=0:\n",
        "\t\tindex = (arr[i]/exp1)\n",
        "\t\toutput[ count[ int((index)%10) ] - 1] = arr[i]\n",
        "\t\tcount[int((index)%10)] -= 1\n",
        "\t\ti -= 1\n",
        "\n",
        "\t# Copying the output array to arr[],\n",
        "\t# so that arr now contains sorted numbers\n",
        "\ti = 0\n",
        "\tfor i in range(0,len(arr)):\n",
        "\t\tarr[i] = output[i]\n",
        "\n",
        "# Method to do Radix Sort\n",
        "def radixSort(arr):\n",
        "\n",
        "\t# Find the maximum number to know number of digits\n",
        "\tmax1 = max(arr)\n",
        "\n",
        "\t# Do counting sort for every digit. Note that instead\n",
        "\t# of passing digit number, exp is passed. exp is 10^i\n",
        "\t# where i is current digit number\n",
        "\texp = 1\n",
        "\twhile max1 // exp > 0:\n",
        "\t\tcountingSort(arr,exp)\n",
        "\t\texp *= 10\n",
        "\n",
        "# Driver code to test above\n",
        "arr = [ 170, 45, 75, 90, 802, 24, 2, 66]\n",
        "radixSort(arr)\n",
        "\n",
        "for i in range(len(arr)):\n",
        "\tprint(arr[i],end=\" \")\n",
        "\n",
        "# This code is contributed by Mohit Kumra\n",
        "# This code is updated by Sudeep Saxena(saxenasudeepcse@gmail.com) on July 9, 2020\n"
      ],
      "metadata": {
        "colab": {
          "base_uri": "https://localhost:8080/"
        },
        "id": "JaFO-ezrmUnM",
        "outputId": "4221a1d0-451d-401d-f608-a79bec186f34"
      },
      "execution_count": null,
      "outputs": [
        {
          "output_type": "stream",
          "name": "stdout",
          "text": [
            "2 24 45 66 75 90 170 802 "
          ]
        }
      ]
    },
    {
      "cell_type": "code",
      "source": [
        "# Python Program for Binary Insertion Sort\n",
        "\n",
        "import bisect\n",
        "\n",
        "def binary_search(arr, val, start, end):\n",
        "\tidx = bisect.bisect_left(arr[start:end+1], val)\n",
        "\treturn start + idx\n",
        "\n",
        "def insertion_sort(arr):\n",
        "\tfor i in range(1, len(arr)):\n",
        "\t\tval = arr[i]\n",
        "\t\tj = binary_search(arr, val, 0, i-1)\n",
        "\t\tarr = arr[:j] + [val] + arr[j:i] + arr[i+1:]\n",
        "\treturn arr\n",
        "\n",
        "print(\"Sorted array:\")\n",
        "print(insertion_sort([37, 23, 0, 17, 12, 72, 31,\n",
        "\t\t\t\t\t46, 100, 88, 54]))\n"
      ],
      "metadata": {
        "colab": {
          "base_uri": "https://localhost:8080/"
        },
        "id": "V2W2ssKr3ztk",
        "outputId": "9d1bfd3b-189d-4511-ca42-78b7ac312f99"
      },
      "execution_count": null,
      "outputs": [
        {
          "output_type": "stream",
          "name": "stdout",
          "text": [
            "Sorted array:\n",
            "[0, 12, 17, 23, 31, 37, 46, 54, 72, 88, 100]\n"
          ]
        }
      ]
    },
    {
      "cell_type": "code",
      "source": [
        "# Python Program for QuickSort\n",
        "\n",
        "# Approach 2: Quicksort using list comprehension\n",
        "\n",
        "def quicksort(arr):\n",
        "\tif len(arr) <= 1:\n",
        "\t\treturn arr\n",
        "\telse:\n",
        "\t\tpivot = arr[0]\n",
        "\t\tleft = [x for x in arr[1:] if x < pivot]\n",
        "\t\tright = [x for x in arr[1:] if x >= pivot]\n",
        "\t\treturn quicksort(left) + [pivot] + quicksort(right)\n",
        "\n",
        "# Example usage\n",
        "arr = [1, 7, 4, 1, 10, 9, -2]\n",
        "sorted_arr = quicksort(arr)\n",
        "print(\"Sorted Array in Ascending Order:\")\n",
        "print(sorted_arr)\n"
      ],
      "metadata": {
        "colab": {
          "base_uri": "https://localhost:8080/"
        },
        "id": "FolEetVxZTgU",
        "outputId": "d9816ef3-bed7-4c46-978e-9e586f38f31f"
      },
      "execution_count": null,
      "outputs": [
        {
          "output_type": "stream",
          "name": "stdout",
          "text": [
            "Sorted Array in Ascending Order:\n",
            "[-2, 1, 1, 4, 7, 9, 10]\n"
          ]
        }
      ]
    },
    {
      "cell_type": "code",
      "source": [
        "# Python Program for Selection Sort\n",
        "\n",
        "# Selection sort in Python\n",
        "# time complexity O(n*n)\n",
        "#sorting by finding min_index\n",
        "def selectionSort(array, size):\n",
        "\n",
        "\tfor ind in range(size):\n",
        "\t\tmin_index = ind\n",
        "\n",
        "\t\tfor j in range(ind + 1, size):\n",
        "\t\t\t# select the minimum element in every iteration\n",
        "\t\t\tif array[j] < array[min_index]:\n",
        "\t\t\t\tmin_index = j\n",
        "\t\t# swapping the elements to sort the array\n",
        "\t\t(array[ind], array[min_index]) = (array[min_index], array[ind])\n",
        "\n",
        "arr = [-2, 45, 0, 11, -9,88,-97,-202,747]\n",
        "size = len(arr)\n",
        "selectionSort(arr, size)\n",
        "print('The array after sorting in Ascending Order by selection sort is:')\n",
        "print(arr)\n"
      ],
      "metadata": {
        "id": "9KhWb_4eZfb3",
        "colab": {
          "base_uri": "https://localhost:8080/"
        },
        "outputId": "9e77b683-d34a-4dc7-9fdb-75a88bf83cca"
      },
      "execution_count": null,
      "outputs": [
        {
          "output_type": "stream",
          "name": "stdout",
          "text": [
            "The array after sorting in Ascending Order by selection sort is:\n",
            "[-202, -97, -9, -2, 0, 11, 45, 88, 747]\n"
          ]
        }
      ]
    },
    {
      "cell_type": "code",
      "source": [
        "# Python Program for Bubble Sort\n",
        "\n",
        "def bubbleSort(arr):\n",
        "    n = len(arr)\n",
        "    for i in range(n-1):\n",
        "        swapped = False\n",
        "        for j in range(0, n-i-1):\n",
        "            if arr[j] > arr[j + 1]:\n",
        "                swapped = True\n",
        "                arr[j], arr[j + 1] = arr[j + 1], arr[j]\n",
        "\n",
        "        if not swapped:\n",
        "            return arr\n",
        "\n",
        "\n",
        "# Driver code to test above\n",
        "arr = [64, 34, 25, 12, 22, 11, 90]\n",
        "bubbleSort(arr)\n",
        "\n"
      ],
      "metadata": {
        "id": "Zx56IRVzmHGk",
        "colab": {
          "base_uri": "https://localhost:8080/"
        },
        "outputId": "8fd490aa-73b3-493f-f84a-af2315da1f21"
      },
      "execution_count": null,
      "outputs": [
        {
          "output_type": "execute_result",
          "data": {
            "text/plain": [
              "[11, 12, 22, 25, 34, 64, 90]"
            ]
          },
          "metadata": {},
          "execution_count": 6
        }
      ]
    },
    {
      "cell_type": "code",
      "source": [
        "#Python Program for Counting Sort\n",
        "\n",
        "# Python program for counting sort\n",
        "\n",
        "# The main function that sort the given string arr[] in\n",
        "# alphabetical order\n",
        "def countSort(arr):\n",
        "\n",
        "\t# The output character array that will have sorted arr\n",
        "\toutput = [0 for i in range(256)]\n",
        "\n",
        "\t# Create a count array to store count of individual\n",
        "\t# characters and initialize count array as 0\n",
        "\tcount = [0 for i in range(256)]\n",
        "\n",
        "\t# For storing the resulting answer since the\n",
        "\t# string is immutable\n",
        "\tans = [\"\" for _ in arr]\n",
        "\n",
        "\t# Store count of each character\n",
        "\tfor i in arr:\n",
        "\t\tcount[ord(i)] += 1\n",
        "\n",
        "\t# Change count[i] so that count[i] now contains actual\n",
        "\t# position of this character in output array\n",
        "\tfor i in range(256):\n",
        "\t\tcount[i] += count[i-1]\n",
        "\n",
        "\t# Build the output character array\n",
        "\tfor i in range(len(arr)):\n",
        "\t\toutput[count[ord(arr[i])]-1] = arr[i]\n",
        "\t\tcount[ord(arr[i])] -= 1\n",
        "\n",
        "\t# Copy the output array to arr, so that arr now\n",
        "\t# contains sorted characters\n",
        "\tfor i in range(len(arr)):\n",
        "\t\tans[i] = output[i]\n",
        "\treturn ans\n",
        "\n",
        "# Driver program to test above function\n",
        "arr = \"geeksforgeeks\"\n",
        "ans = countSort(arr)\n",
        "print (\"Sorted character array is %s\" %(\"\".join(ans)))\n",
        "\n",
        "# This code is contributed by Nikhil Kumar Singh\n"
      ],
      "metadata": {
        "colab": {
          "base_uri": "https://localhost:8080/"
        },
        "id": "7O9ViYosjdaq",
        "outputId": "3dbad1fb-8bbe-4d1b-fdb2-fc76a4c865d3"
      },
      "execution_count": null,
      "outputs": [
        {
          "output_type": "stream",
          "name": "stdout",
          "text": [
            "Sorted character array is eeeefggkkorss\n"
          ]
        }
      ]
    },
    {
      "cell_type": "code",
      "source": [
        "\n",
        "# Python Program to print the pattern ‘G’\n",
        "\n",
        "# Python program to print pattern G\n",
        "def Pattern(line):\n",
        "\tpat=\"\"\n",
        "\tfor i in range(0,line):\n",
        "\t\tfor j in range(0,line):\n",
        "\t\t\tif ((j == 1 and i != 0 and i != line-1) or ((i == 0 or\n",
        "\t\t\t\ti == line-1) and j > 1 and j < line-2) or (i == ((line-1)/2)\n",
        "\t\t\t\tand j > line-5 and j < line-1) or (j == line-2 and\n",
        "\t\t\t\ti != 0 and i != line-1 and i >=((line-1)/2))):\n",
        "\t\t\t\tpat=pat+\"*\"\n",
        "\t\t\telse:\n",
        "\t\t\t\tpat=pat+\" \"\n",
        "\t\tpat=pat+\"\\n\"\n",
        "\treturn pat\n",
        "\n",
        "# Driver Code\n",
        "line = 7\n",
        "print(Pattern(line))\n"
      ],
      "metadata": {
        "id": "DNVmzejwPybC",
        "colab": {
          "base_uri": "https://localhost:8080/"
        },
        "outputId": "9b13a26c-a3d4-4e7a-90cb-e8b029eeaff5"
      },
      "execution_count": null,
      "outputs": [
        {
          "output_type": "stream",
          "name": "stdout",
          "text": [
            "  ***  \n",
            " *     \n",
            " *     \n",
            " * *** \n",
            " *   * \n",
            " *   * \n",
            "  ***  \n",
            "\n"
          ]
        }
      ]
    },
    {
      "cell_type": "code",
      "source": [
        "# Python Program to print an Inverted Star Pattern\n",
        "\n",
        "for i in range (n, 0, -1):\n",
        "\tprint((n-i) * ' ' + i * '*')\n"
      ],
      "metadata": {
        "colab": {
          "base_uri": "https://localhost:8080/"
        },
        "id": "_o_WACp7Nr59",
        "outputId": "0878e683-9b29-4efe-d8f0-37a98bde4015"
      },
      "execution_count": null,
      "outputs": [
        {
          "output_type": "stream",
          "name": "stdout",
          "text": [
            "***********\n",
            " **********\n",
            "  *********\n",
            "   ********\n",
            "    *******\n",
            "     ******\n",
            "      *****\n",
            "       ****\n",
            "        ***\n",
            "         **\n",
            "          *\n"
          ]
        }
      ]
    },
    {
      "cell_type": "code",
      "source": [
        "# Python Program to print double sided stair-case pattern\n",
        "\n",
        "# Python3 Program to demonstrate\n",
        "# staircase pattern\n",
        "\n",
        "# function definition\n",
        "def pattern(n):\n",
        "\n",
        "\t# for loop for rows\n",
        "\tfor i in range(1,n+1):\n",
        "\n",
        "\t\t# conditional operator\n",
        "\t\tk =i + 1 if(i % 2 != 0) else i\n",
        "\n",
        "\t\t# for loop for printing spaces\n",
        "\t\tfor g in range(k,n):\n",
        "\t\t\tif g>=k:\n",
        "\t\t\t\tprint(end=\" \")\n",
        "\n",
        "\t\t# according to value of k carry\n",
        "\t\t# out further operation\n",
        "\t\tfor j in range(0,k):\n",
        "\t\t\tif j == k - 1:\n",
        "\t\t\t\tprint(\" * \")\n",
        "\t\t\telse:\n",
        "\t\t\t\tprint(\" * \", end = \" \")\n",
        "\n",
        "\n",
        "# Driver code\n",
        "n = 10\n",
        "pattern(n)\n"
      ],
      "metadata": {
        "id": "U9qtXSu0esZG",
        "colab": {
          "base_uri": "https://localhost:8080/"
        },
        "outputId": "96711392-a284-45f9-f71f-f82bc1650bd0"
      },
      "execution_count": null,
      "outputs": [
        {
          "output_type": "stream",
          "name": "stdout",
          "text": [
            "         *   * \n",
            "         *   * \n",
            "       *   *   *   * \n",
            "       *   *   *   * \n",
            "     *   *   *   *   *   * \n",
            "     *   *   *   *   *   * \n",
            "   *   *   *   *   *   *   *   * \n",
            "   *   *   *   *   *   *   *   * \n",
            " *   *   *   *   *   *   *   *   *   * \n",
            " *   *   *   *   *   *   *   *   *   * \n"
          ]
        }
      ]
    },
    {
      "cell_type": "code",
      "source": [
        "# Python Program to print with your own font\n",
        "\n",
        "ascii_art = {\n",
        "\t\"A\": \"..######..\\n..#....#..\\n..######..\",\n",
        "\t\"B\": \"..######..\\n..#....#..\\n..#####...\",\n",
        "\t\"C\": \"..######..\\n..#.......\\n..#.......\",\n",
        "\t\"D\": \"..######..\\n..#.......\\n..#.......\",\n",
        "\t\"E\": \"..#####...\\n..#....#..\\n..#....#..\",\n",
        "\t\"F\": \"..######..\\n..#.......\\n..#####...\",\n",
        "\t\"G\": \"..######..\\n..#.......\\n..#.####..\",\n",
        "\t\"H\": \"..#....#..\\n..#....#..\\n..######..\",\n",
        "\n",
        "\t# Add more characters...\n",
        "}\n",
        "\n",
        "# Input name for which you want to print ASCII art\n",
        "name = \"GEEK\"\n",
        "\n",
        "# Iterate through each character in the name\n",
        "for char in name:\n",
        "\t# Convert the character to uppercase\n",
        "\tchar_upper = char.upper()\n",
        "\n",
        "\t# Check if the uppercase character exists in the ASCII art dictionary\n",
        "\tif char_upper in ascii_art:\n",
        "\t\t# Print the ASCII art representation of the character\n",
        "\t\tprint(ascii_art[char_upper], end=\" \")\n",
        "\telse:\n",
        "\t\t# If the character is not found in the dictionary, print a message\n",
        "\t\tprint(\"Character not found in ASCII art dictionary\")\n"
      ],
      "metadata": {
        "colab": {
          "base_uri": "https://localhost:8080/"
        },
        "id": "vPYcYrQiiWs9",
        "outputId": "a24a25cd-170d-402a-f744-c823acc447f3"
      },
      "execution_count": null,
      "outputs": [
        {
          "output_type": "stream",
          "name": "stdout",
          "text": [
            "..######..\n",
            "..#.......\n",
            "..#.####.. ..#####...\n",
            "..#....#..\n",
            "..#....#.. ..#####...\n",
            "..#....#..\n",
            "..#....#.. Character not found in ASCII art dictionary\n"
          ]
        }
      ]
    },
    {
      "cell_type": "code",
      "source": [
        "# Python program to get Current Time\n",
        "\n",
        "from datetime import datetime\n",
        "\n",
        "# Time object containing\n",
        "# the current time.\n",
        "time = datetime.now().time()\n",
        "\n",
        "print(\"Current Time =\", time)\n"
      ],
      "metadata": {
        "id": "4maRBpLqfMs7",
        "colab": {
          "base_uri": "https://localhost:8080/"
        },
        "outputId": "d1619fc2-b070-4ce9-b43f-34e3b65e1054"
      },
      "execution_count": null,
      "outputs": [
        {
          "output_type": "stream",
          "name": "stdout",
          "text": [
            "Current Time = 05:26:10.174754\n"
          ]
        }
      ]
    },
    {
      "cell_type": "code",
      "source": [
        "# Python program to convert time from 12 hour to 24 hour format\n",
        "\n",
        "# Python program to convert time\n",
        "# from 12 hour to 24 hour format\n",
        "\n",
        "# Function to convert the date format\n",
        "def convert24(str1):\n",
        "\n",
        "\t# Checking if last two elements of time\n",
        "\t# is AM and first two elements are 12\n",
        "\tif str1[-2:] == \"AM\" and str1[:2] == \"12\":\n",
        "\t\treturn \"00\" + str1[2:-2]\n",
        "\n",
        "\t# remove the AM\n",
        "\telif str1[-2:] == \"AM\":\n",
        "\t\treturn str1[:-2]\n",
        "\n",
        "\t# Checking if last two elements of time\n",
        "\t# is PM and first two elements are 12\n",
        "\telif str1[-2:] == \"PM\" and str1[:2] == \"12\":\n",
        "\t\treturn str1[:-2]\n",
        "\n",
        "\telse:\n",
        "\n",
        "\t\t# add 12 to hours and remove PM\n",
        "\t\treturn str(int(str1[:2]) + 12) + str1[2:8]\n",
        "\n",
        "# Driver Code\n",
        "print(convert24(\"08:05:45 PM\"))\n"
      ],
      "metadata": {
        "colab": {
          "base_uri": "https://localhost:8080/"
        },
        "id": "CZHsPa22d2en",
        "outputId": "760d4f2a-c1ca-4a00-e7ab-29bc2c7fc54c"
      },
      "execution_count": null,
      "outputs": [
        {
          "output_type": "stream",
          "name": "stdout",
          "text": [
            "20:05:45\n"
          ]
        }
      ]
    },
    {
      "cell_type": "code",
      "source": [
        "# Python program to find difference between current time and given time\n",
        "\n",
        "# Python program to find the\n",
        "# difference between two times\n",
        "\n",
        "\n",
        "# function to obtain the time\n",
        "# in minutes form\n",
        "def difference(h1, m1, h2, m2):\n",
        "\n",
        "\t# convert h1 : m1 into\n",
        "\t# minutes\n",
        "\tt1 = h1 * 60 + m1\n",
        "\n",
        "\t# convert h2 : m2 into\n",
        "\t# minutes\n",
        "\tt2 = h2 * 60 + m2\n",
        "\n",
        "\tif (t1 == t2):\n",
        "\t\tprint(\"Both are same times\")\n",
        "\t\treturn\n",
        "\telse:\n",
        "\n",
        "\t\t# calculating the difference\n",
        "\t\tdiff = t2-t1\n",
        "\n",
        "\t# calculating hours from\n",
        "\t# difference\n",
        "\th = (int(diff / 60)) % 24\n",
        "\n",
        "\t# calculating minutes from\n",
        "\t# difference\n",
        "\tm = diff % 60\n",
        "\n",
        "\tprint(h, \":\", m)\n",
        "\n",
        "# Driver's code\n",
        "if __name__ == \"__main__\":\n",
        "\n",
        "\tdifference(7, 20, 9, 45)\n",
        "\tdifference(15, 23, 18, 54)\n",
        "\tdifference(16, 20, 16, 20)\n",
        "\n",
        "# This code is contributed by SrujayReddy\n"
      ],
      "metadata": {
        "colab": {
          "base_uri": "https://localhost:8080/"
        },
        "id": "S5KmDibpIMne",
        "outputId": "6e57e7bd-0eff-4492-e5ae-64c0c1a44bde"
      },
      "execution_count": null,
      "outputs": [
        {
          "output_type": "stream",
          "name": "stdout",
          "text": [
            "2 : 25\n",
            "3 : 31\n",
            "Both are same times\n"
          ]
        }
      ]
    },
    {
      "cell_type": "code",
      "source": [
        "# Python Program to Create a Lap Timer\n",
        "\n",
        "# importing libraries\n",
        "import time\n",
        "\n",
        "\n",
        "# Timer starts\n",
        "starttime = time.time()\n",
        "lasttime = starttime\n",
        "lapnum = 1\n",
        "\n",
        "print(\"Press ENTER to count laps.\\nPress CTRL+C to stop\")\n",
        "\n",
        "try:\n",
        "\twhile True:\n",
        "\n",
        "\t\t# Input for the ENTER key press\n",
        "\t\tinput()\n",
        "\n",
        "\t\t# The current lap-time\n",
        "\t\tlaptime = round((time.time() - lasttime), 2)\n",
        "\n",
        "\t\t# Total time elapsed\n",
        "\t\t# since the timer started\n",
        "\t\ttotaltime = round((time.time() - starttime), 2)\n",
        "\n",
        "\t\t# Printing the lap number,\n",
        "\t\t# lap-time and total time\n",
        "\t\tprint(\"Lap No. \"+str(lapnum))\n",
        "\t\tprint(\"Total Time: \"+str(totaltime))\n",
        "\t\tprint(\"Lap Time: \"+str(laptime))\n",
        "\n",
        "\t\tprint(\"*\"*20)\n",
        "\n",
        "\t\t# Updating the previous total time\n",
        "\t\t# and lap number\n",
        "\t\tlasttime = time.time()\n",
        "\t\tlapnum += 1\n",
        "\n",
        "# Stopping when CTRL+C is pressed\n",
        "except KeyboardInterrupt:\n",
        "\tprint(\"Done\")\n"
      ],
      "metadata": {
        "colab": {
          "base_uri": "https://localhost:8080/"
        },
        "id": "J6UD8swwUaMQ",
        "outputId": "e9a755c7-7fb6-4c8a-ed7b-9ecc51b26c9f"
      },
      "execution_count": null,
      "outputs": [
        {
          "output_type": "stream",
          "name": "stdout",
          "text": [
            "Press ENTER to count laps.\n",
            "Press CTRL+C to stop\n",
            "1\n",
            "Lap No. 1\n",
            "Total Time: 24.01\n",
            "Lap Time: 24.01\n",
            "********************\n",
            "2\n",
            "Lap No. 2\n",
            "Total Time: 27.08\n",
            "Lap Time: 3.07\n",
            "********************\n",
            "3\n",
            "Lap No. 3\n",
            "Total Time: 42.81\n",
            "Lap Time: 15.73\n",
            "********************\n",
            "4\n",
            "Lap No. 4\n",
            "Total Time: 46.87\n",
            "Lap Time: 4.06\n",
            "********************\n",
            "5\n",
            "Lap No. 5\n",
            "Total Time: 50.92\n",
            "Lap Time: 4.05\n",
            "********************\n",
            "6\n",
            "Lap No. 6\n",
            "Total Time: 53.91\n",
            "Lap Time: 2.99\n",
            "********************\n",
            "7\n",
            "Lap No. 7\n",
            "Total Time: 57.15\n",
            "Lap Time: 3.24\n",
            "********************\n",
            "10\n",
            "Lap No. 8\n",
            "Total Time: 113.63\n",
            "Lap Time: 56.48\n",
            "********************\n",
            "100\n",
            "Lap No. 9\n",
            "Total Time: 127.74\n",
            "Lap Time: 14.11\n",
            "********************\n",
            "Done\n"
          ]
        }
      ]
    },
    {
      "cell_type": "code",
      "source": [
        "# Convert date string to timestamp in Python\n",
        "\n",
        "# Python program to convert\n",
        "# date to timestamp\n",
        "\n",
        "\n",
        "\n",
        "import time\n",
        "import datetime\n",
        "\n",
        "\n",
        "string = \"20/01/2020\"\n",
        "\n",
        "element = datetime.datetime.strptime(string,\"%d/%m/%Y\")\n",
        "\n",
        "tuple = element.timetuple()\n",
        "timestamp = time.mktime(tuple)\n",
        "\n",
        "print(timestamp)\n"
      ],
      "metadata": {
        "colab": {
          "base_uri": "https://localhost:8080/"
        },
        "id": "T4jMta_SUqLC",
        "outputId": "b58a168c-1597-4cf3-dec6-bdd412a96578"
      },
      "execution_count": null,
      "outputs": [
        {
          "output_type": "stream",
          "name": "stdout",
          "text": [
            "1579478400.0\n"
          ]
        }
      ]
    },
    {
      "cell_type": "code",
      "source": [
        "# How to convert timestamp string to datetime object in Python?\n",
        "from datetime import datetime\n",
        "\n",
        "\n",
        "timestamp = 1545730073\n",
        "dt_obj = datetime.fromtimestamp(1140825600)\n",
        "\n",
        "print(\"date_time:\",dt_obj)\n",
        "print(\"type of dt:\",type(dt_obj))\n"
      ],
      "metadata": {
        "colab": {
          "base_uri": "https://localhost:8080/"
        },
        "id": "Ujh4WHCLVf6f",
        "outputId": "4cf27a41-e7f1-4579-d9f6-dca4fdbde8b8"
      },
      "execution_count": null,
      "outputs": [
        {
          "output_type": "stream",
          "name": "stdout",
          "text": [
            "date_time: 2006-02-25 00:00:00\n",
            "type of dt: <class 'datetime.datetime'>\n"
          ]
        }
      ]
    },
    {
      "cell_type": "code",
      "source": [
        "#  Check if String Contain Only Defined Characters using Regex\n",
        "\n",
        "# _importing module\n",
        "import re\n",
        "def check(str, pattern):\n",
        "\t# _matching the strings\n",
        "\tif re.search(pattern, str):\n",
        "\t\tprint(\"Valid String\")\n",
        "\telse:\n",
        "\t\tprint(\"Invalid String\")\n",
        "# _driver code\n",
        "pattern = re.compile('^[1234]+$')\n",
        "check('2134', pattern)\n",
        "check('349', pattern)\n"
      ],
      "metadata": {
        "colab": {
          "base_uri": "https://localhost:8080/"
        },
        "id": "26FCw8yfVmjT",
        "outputId": "9bd23ce9-7a47-475c-b7de-a9daa23a431a"
      },
      "execution_count": null,
      "outputs": [
        {
          "output_type": "stream",
          "name": "stdout",
          "text": [
            "Valid String\n",
            "Invalid String\n"
          ]
        }
      ]
    },
    {
      "cell_type": "code",
      "source": [
        "# Python program to Count Uppercase, Lowercase, special character and numeric values using Regex\n",
        "\n",
        "import re\n",
        "\n",
        "\n",
        "string = \"ThisIsGeeksforGeeks !, 123\"\n",
        "\n",
        "# Creating separate lists using\n",
        "# the re.findall() method.\n",
        "uppercase_characters = re.findall(r\"[A-Z]\", string)\n",
        "lowercase_characters = re.findall(r\"[a-z]\", string)\n",
        "numerical_characters = re.findall(r\"[0-9]\", string)\n",
        "special_characters = re.findall(r\"[, .!?]\", string)\n",
        "\n",
        "print(\"The no. of uppercase characters is\", len(uppercase_characters))\n",
        "print(\"The no. of lowercase characters is\", len(lowercase_characters))\n",
        "print(\"The no. of numerical characters is\", len(numerical_characters))\n",
        "print(\"The no. of special characters is\", len(special_characters))\n"
      ],
      "metadata": {
        "id": "slPybeApZfd0",
        "colab": {
          "base_uri": "https://localhost:8080/"
        },
        "outputId": "fad05552-d5b0-4e56-cf66-bf7059a0a353"
      },
      "execution_count": null,
      "outputs": [
        {
          "output_type": "stream",
          "name": "stdout",
          "text": [
            "The no. of uppercase characters is 4\n",
            "The no. of lowercase characters is 15\n",
            "The no. of numerical characters is 3\n",
            "The no. of special characters is 4\n"
          ]
        }
      ]
    },
    {
      "cell_type": "code",
      "source": [
        "# Python Program to find the most occurring number in a string using Regex\n",
        "\n",
        "import re\n",
        "\n",
        "def count_characters(input_string):\n",
        "\tuppercase_count = len(re.findall(r'[A-Z]', input_string))\n",
        "\tlowercase_count = len(re.findall(r'[a-z]', input_string))\n",
        "\tspecial_char_count = len(re.findall(r'[!@#$%^&*()_+{}\\[\\]:;<>,.?\\\\/-]', input_string))\n",
        "\tnumeric_count = len(re.findall(r'[0-9]', input_string))\n",
        "\n",
        "\treturn uppercase_count, lowercase_count, special_char_count, numeric_count\n",
        "\n",
        "test_string = \"Hello World! 123\"\n",
        "uppercase, lowercase, special_chars, numeric = count_characters(test_string)\n",
        "\n",
        "print(\"Uppercase count:\", uppercase)\n",
        "print(\"Lowercase count:\", lowercase)\n",
        "print(\"Special character count:\", special_chars)\n",
        "print(\"Numeric count:\", numeric)\n"
      ],
      "metadata": {
        "colab": {
          "base_uri": "https://localhost:8080/"
        },
        "id": "IumUTge6kmVD",
        "outputId": "81a5c876-2fc5-4a59-ecde-e79a830aa7d4"
      },
      "execution_count": null,
      "outputs": [
        {
          "output_type": "stream",
          "name": "stdout",
          "text": [
            "Uppercase count: 2\n",
            "Lowercase count: 8\n",
            "Special character count: 1\n",
            "Numeric count: 3\n"
          ]
        }
      ]
    },
    {
      "cell_type": "code",
      "source": [
        "## Regex to extract maximum numeric value from a string\n",
        "\n",
        "import re\n",
        "\n",
        "def extractMax(input):\n",
        "    numbers = re.findall('\\d+', input)\n",
        "    numbers = map(int, numbers)\n",
        "    print(max(numbers))\n",
        "\n",
        "if __name__ == \"__main__\":\n",
        "    input_string = '100klh564abc365bg'\n",
        "    extractMax(input_string)\n"
      ],
      "metadata": {
        "colab": {
          "base_uri": "https://localhost:8080/"
        },
        "id": "2k21-le8NwqM",
        "outputId": "f7dfd5b3-9190-48cf-b908-68573ba55d9b"
      },
      "execution_count": null,
      "outputs": [
        {
          "output_type": "stream",
          "name": "stdout",
          "text": [
            "564\n"
          ]
        }
      ]
    },
    {
      "cell_type": "code",
      "source": [
        "# Regex in Python to put spaces between words starting with capital letters\n",
        "\n",
        "import re\n",
        "\n",
        "def putSpace(input):\n",
        "\n",
        "    # regex [A-Z][a-z]* means any string starting\n",
        "    # with capital character followed by many\n",
        "    # lowercase letters\n",
        "    words = re.findall('[A-Z][a-z]*', input)\n",
        "\n",
        "    # Change first letter of each word into lower\n",
        "    # case\n",
        "    for i in range(0,len(words)):\n",
        "        words[i] = words[i][0].lower() + words[i][1:]\n",
        "    print(' '.join(words))\n",
        "\n",
        "# Driver program\n",
        "if __name__ == \"__main__\":\n",
        "    input_str = 'BruceWayneIsBatman'\n",
        "    putSpace(input_str)\n"
      ],
      "metadata": {
        "colab": {
          "base_uri": "https://localhost:8080/"
        },
        "id": "SSY8KwxiNYkW",
        "outputId": "13448dbf-bb31-4e40-e84f-fa8922882f1b"
      },
      "execution_count": null,
      "outputs": [
        {
          "output_type": "stream",
          "name": "stdout",
          "text": [
            "bruce wayne is batman\n"
          ]
        }
      ]
    },
    {
      "cell_type": "code",
      "source": [
        "# Python – Check whether a string starts and ends with the same character or not (using Regular Expression)\n",
        "\n",
        "# Python program to check if a string starts\n",
        "# and ends with the same character\n",
        "\n",
        "# import re module as it provides\n",
        "# support for regular expressions\n",
        "import re\n",
        "\n",
        "# the regular expression\n",
        "regex = r'^[a-z]$|^([a-z]).*\\1$'\n",
        "\n",
        "# function for checking the string\n",
        "def check(string):\n",
        "\n",
        "\t# pass the regular expression\n",
        "\t# and the string in the search() method\n",
        "\tif(re.search(regex, string)):\n",
        "\t\tprint(\"Valid\")\n",
        "\telse:\n",
        "\t\tprint(\"Invalid\")\n",
        "\n",
        "if __name__ == '__main__' :\n",
        "\n",
        "\tsample1 = \"abba\"\n",
        "\tsample2 = \"a\"\n",
        "\tsample3 = \"abcd\"\n",
        "\n",
        "\tcheck(sample1)\n",
        "\tcheck(sample2)\n",
        "\tcheck(sample3)\n"
      ],
      "metadata": {
        "colab": {
          "base_uri": "https://localhost:8080/"
        },
        "id": "wVz38tb0ON5C",
        "outputId": "50d6decd-dd13-4450-a548-8fd2e63f33a6"
      },
      "execution_count": null,
      "outputs": [
        {
          "output_type": "stream",
          "name": "stdout",
          "text": [
            "Valid\n",
            "Valid\n",
            "Invalid\n"
          ]
        }
      ]
    },
    {
      "cell_type": "code",
      "source": [
        "#Python regex to find sequences of one upper case letter followed by lower case letters\n",
        "\n",
        "# your code goes here# Python program to\n",
        "# find the most occurring element\n",
        "import re\n",
        "from collections import Counter\n",
        "\n",
        "def most_occr_element(word):\n",
        "\n",
        "\t# re.findall will extract all the elements\n",
        "\t# from the string and make a list\n",
        "\tarr = re.findall(r'[0-9]+', word)\n",
        "\n",
        "\t# to store maxm frequency\n",
        "\tmaxm = 0\n",
        "\n",
        "\t# to store maxm element of most frequency\n",
        "\tmax_elem = 0\n",
        "\n",
        "\t# counter will store all the number with\n",
        "\t# their frequencies\n",
        "\t# c = counter((55, 2), (2, 1), (3, 1), (4, 1))\n",
        "\tc = Counter(arr)\n",
        "\n",
        "\t# Store all the keys of counter in a list in\n",
        "\t# which first would we our required element\n",
        "\tfor x in list(c.keys()):\n",
        "\n",
        "\t\tif c[x]>= maxm:\n",
        "\t\t\tmaxm = c[x]\n",
        "\t\t\tmax_elem = int(x)\n",
        "\n",
        "\treturn max_elem\n",
        "\n",
        "# Driver program\n",
        "if __name__ == \"__main__\":\n",
        "\tword = 'geek55of55gee4ksabc3dr2x'\n",
        "\tprint(most_occr_element(word))\n"
      ],
      "metadata": {
        "colab": {
          "base_uri": "https://localhost:8080/"
        },
        "id": "R819QbElzBI7",
        "outputId": "ac9dffc7-0a99-4014-9788-5920cd3ce9a3"
      },
      "execution_count": null,
      "outputs": [
        {
          "output_type": "stream",
          "name": "stdout",
          "text": [
            "55\n"
          ]
        }
      ]
    },
    {
      "cell_type": "code",
      "source": [
        "# Remove duplicate words from Sentence using Regular Expression\n",
        "\n",
        "# Python program to remove duplicate words\n",
        "# using Regular Expression or ReGex.\n",
        "import re\n",
        "\n",
        "\n",
        "# Function to validate the sentence\n",
        "# and remove the duplicate words\n",
        "def removeDuplicateWords(input):\n",
        "\n",
        "    # Regex to matching repeated words\n",
        "    regex = r'\\b(\\w+)(?:\\W+\\1\\b)+'\n",
        "\n",
        "    return re.sub(regex, r'\\1', input, flags=re.IGNORECASE)\n",
        "\n",
        "\n",
        "# Driver Code\n",
        "\n",
        "# Test Case: 1\n",
        "str1 = \"Good bye bye world world\"\n",
        "print(removeDuplicateWords(str1))\n",
        "\n",
        "# Test Case: 2\n",
        "str2 = \"Ram went went to to his home\"\n",
        "print(removeDuplicateWords(str2))\n",
        "\n",
        "# Test Case: 3\n",
        "str3 = \"Hello hello world world\"\n",
        "print(removeDuplicateWords(str3))\n",
        "\n",
        "# This code is contributed by yuvraj_chandra\n"
      ],
      "metadata": {
        "colab": {
          "base_uri": "https://localhost:8080/"
        },
        "id": "Dln9Y7g5zKp0",
        "outputId": "f487a8f6-5876-44d0-f2d4-1804b6968ee0"
      },
      "execution_count": null,
      "outputs": [
        {
          "output_type": "stream",
          "name": "stdout",
          "text": [
            "Good bye world\n",
            "Ram went to his home\n",
            "Hello world\n"
          ]
        }
      ]
    },
    {
      "cell_type": "code",
      "source": [
        "# Python | Remove all characters except letters and numbers\n",
        "\n",
        "import re\n",
        "\n",
        "# initialising string\n",
        "ini_string = \"abcjw:, .@! eiw\"\n",
        "\n",
        "# printing initial string\n",
        "print (\"initial string : \", ini_string)\n",
        "\n",
        "result = re.sub('[\\W_]+', '', ini_string)\n",
        "\n",
        "# printing final string\n",
        "print (\"final string\", result)\n"
      ],
      "metadata": {
        "colab": {
          "base_uri": "https://localhost:8080/"
        },
        "id": "7wGNljdxaY2p",
        "outputId": "daa9af03-a614-4332-a2b1-36f9d4d5663b"
      },
      "execution_count": null,
      "outputs": [
        {
          "output_type": "stream",
          "name": "stdout",
          "text": [
            "initial string :  abcjw:, .@! eiw\n",
            "final string abcjweiw\n"
          ]
        }
      ]
    },
    {
      "cell_type": "code",
      "source": [
        "# Python Regex | Program to accept string ending with alphanumeric character\n",
        "\n",
        "\n",
        "import re\n",
        "\n",
        "# Make a regular expression to accept string\n",
        "# ending with alphanumeric character\n",
        "regex = '[a-zA-z0-9]$'\n",
        "\n",
        "# Define a function for accepting string\n",
        "# ending with alphanumeric character\n",
        "def check(string):\n",
        "\n",
        "\t# pass the regular expression\n",
        "\t# and the string in search() method\n",
        "\tif(re.search(regex, string)):\n",
        "\t\tprint(\"Accept\")\n",
        "\n",
        "\telse:\n",
        "\t\tprint(\"Discard\")\n",
        "\n",
        "\n",
        "# Driver Code\n",
        "if __name__ == '__main__' :\n",
        "\n",
        "\t# Enter the string\n",
        "\tstring = \"ankirai@\"\n",
        "\n",
        "\t# calling run function\n",
        "\tcheck(string)\n",
        "\n",
        "\tstring = \"ankitrai326\"\n",
        "\tcheck(string)\n",
        "\n",
        "\tstring = \"ankit.\"\n",
        "\tcheck(string)\n",
        "\n",
        "\tstring = \"geeksforgeeks\"\n",
        "\tcheck(string)\n"
      ],
      "metadata": {
        "colab": {
          "base_uri": "https://localhost:8080/"
        },
        "id": "S537xBZEad0T",
        "outputId": "405f0430-4198-4eec-8af9-4ac8837fbff8"
      },
      "execution_count": null,
      "outputs": [
        {
          "output_type": "stream",
          "name": "stdout",
          "text": [
            "Discard\n",
            "Accept\n",
            "Discard\n",
            "Accept\n"
          ]
        }
      ]
    },
    {
      "cell_type": "code",
      "source": [
        "# Python Regex – Program to accept string starting with vowel\n",
        "\n",
        "# Python program to accept string starting with a vowel\n",
        "\n",
        "# import re module\n",
        "\n",
        "# re module provides support\n",
        "# for regular expressions\n",
        "import re\n",
        "\n",
        "# Make a regular expression\n",
        "# to accept string starting with vowel\n",
        "regex = '^[aeiouAEIOU][A-Za-z0-9_]*'\n",
        "\n",
        "# Define a function for\n",
        "# accepting string start with vowel\n",
        "def check(string):\n",
        "\n",
        "\t# pass the regular expression\n",
        "\t# and the string in search() method\n",
        "\tif(re.search(regex, string)):\n",
        "\t\tprint(\"Valid\")\n",
        "\n",
        "\telse:\n",
        "\t\tprint(\"Invalid\")\n",
        "\n",
        "\n",
        "# Driver Code\n",
        "if __name__ == '__main__' :\n",
        "\n",
        "\t# Enter the string\n",
        "\tstring = \"ankit\"\n",
        "\n",
        "\t# calling run function\n",
        "\tcheck(string)\n",
        "\n",
        "\tstring = \"geeks\"\n",
        "\tcheck(string)\n",
        "\n",
        "\tstring = \"sandeep\"\n",
        "\tcheck(string)\n"
      ],
      "metadata": {
        "colab": {
          "base_uri": "https://localhost:8080/"
        },
        "id": "dnrEc4niy7ml",
        "outputId": "ebd0c9ff-8943-4446-8466-90fccb1602c5"
      },
      "execution_count": null,
      "outputs": [
        {
          "output_type": "stream",
          "name": "stdout",
          "text": [
            "Valid\n",
            "Invalid\n",
            "Invalid\n"
          ]
        }
      ]
    },
    {
      "cell_type": "code",
      "source": [
        "# How to check if a string starts with a substring using regex in Python?\n",
        "\n",
        "\n",
        "# import library\n",
        "import re\n",
        "\n",
        "# define a function\n",
        "def find(string, sample):\n",
        "    # check substring present\n",
        "    # in a string or not\n",
        "    if sample in string:\n",
        "        y = \"^\" + sample\n",
        "\n",
        "        # check if string starts\n",
        "        # with the substring\n",
        "        x = re.search(y, string)\n",
        "\n",
        "        if x:\n",
        "            print(\"string starts with the given substring\")\n",
        "        else:\n",
        "            print(\"string doesn't start with the given substring\")\n",
        "    else:\n",
        "        print(\"entered string isn't a substring\")\n",
        "\n",
        "# Driver code\n",
        "string = \"geeks for geeks makes learning fun\"\n",
        "sample = \"geeks\"\n",
        "\n",
        "# function call\n",
        "find(string, sample)\n",
        "\n",
        "sample = \"makes\"\n",
        "\n",
        "# function call\n",
        "find(string, sample)\n",
        "\n"
      ],
      "metadata": {
        "id": "pg8_qOzWzF4c",
        "colab": {
          "base_uri": "https://localhost:8080/"
        },
        "outputId": "2f477872-0449-4e5b-90be-e738e6a44b89"
      },
      "execution_count": 3,
      "outputs": [
        {
          "output_type": "stream",
          "name": "stdout",
          "text": [
            "string starts with the given substring\n",
            "string doesn't start with the given substring\n"
          ]
        }
      ]
    },
    {
      "cell_type": "code",
      "source": [
        "# Check if an URL is valid or not using Regular Expression\n",
        "\n",
        "# Python3 program to check\n",
        "# URL is valid or not\n",
        "# using regular expression\n",
        "import re\n",
        "\n",
        "# Function to validate URL\n",
        "# using regular expression\n",
        "def isValidURL(str):\n",
        "\n",
        "\t# Regex to check valid URL\n",
        "\tregex = (\"((http|https)://)(www.)?\" +\n",
        "\t\t\t\"[a-zA-Z0-9@:%._\\\\+~#?&//=]\" +\n",
        "\t\t\t\"{2,256}\\\\.[a-z]\" +\n",
        "\t\t\t\"{2,6}\\\\b([-a-zA-Z0-9@:%\" +\n",
        "\t\t\t\"._\\\\+~#?&//=]*)\")\n",
        "\n",
        "\t# Compile the ReGex\n",
        "\tp = re.compile(regex)\n",
        "\n",
        "\t# If the string is empty\n",
        "\t# return false\n",
        "\tif (str == None):\n",
        "\t\treturn False\n",
        "\n",
        "\t# Return if the string\n",
        "\t# matched the ReGex\n",
        "\tif(re.search(p, str)):\n",
        "\t\treturn True\n",
        "\telse:\n",
        "\t\treturn False\n",
        "\n",
        "# Driver code\n",
        "\n",
        "# Test Case 1:\n",
        "url = \"https://www.geeksforgeeks.org\"\n",
        "\n",
        "if(isValidURL(url) == True):\n",
        "\tprint(\"Yes\")\n",
        "else:\n",
        "\tprint(\"No\")\n",
        "\n",
        "# This code is contributed by avanitrachhadiya2155\n"
      ],
      "metadata": {
        "colab": {
          "base_uri": "https://localhost:8080/"
        },
        "id": "hfM6dL99PTi8",
        "outputId": "9b547ef7-2e82-42b2-f597-e4f725a74f6d"
      },
      "execution_count": 2,
      "outputs": [
        {
          "output_type": "stream",
          "name": "stdout",
          "text": [
            "Yes\n"
          ]
        }
      ]
    },
    {
      "cell_type": "code",
      "source": [
        "# Parsing and Processing URL using Python – Regex\n",
        "\n",
        "# import library\n",
        "import re\n",
        "\n",
        "# url link\n",
        "s = 'https://www.geeksforgeeks.org/'\n",
        "\n",
        "# finding the protocol\n",
        "obj1 = re.findall('(\\w+)://',\n",
        "\t\t\t\ts)\n",
        "print(obj1)\n",
        "\n",
        "# finding the hostname which may\n",
        "# contain dash or dots\n",
        "obj2 = re.findall('://www.([\\w\\-\\.]+)',\n",
        "\t\t\t\ts)\n",
        "print(obj2)\n"
      ],
      "metadata": {
        "colab": {
          "base_uri": "https://localhost:8080/"
        },
        "id": "MBYK71S0PaQq",
        "outputId": "e327ccdb-c7b2-490b-8bf4-d86b3f7bda6c"
      },
      "execution_count": 1,
      "outputs": [
        {
          "output_type": "stream",
          "name": "stdout",
          "text": [
            "['https']\n",
            "['geeksforgeeks.org']\n"
          ]
        }
      ]
    },
    {
      "cell_type": "code",
      "source": [
        "# How to validate an IP address using ReGex\n",
        "\n",
        "# Python3 program to validate\n",
        "# IP address using Regex\n",
        "import re\n",
        "\n",
        "# Function for Validating IP\n",
        "\n",
        "\n",
        "def Validate_It(IP):\n",
        "\n",
        "\t# Regex expression for validating IPv4\n",
        "\tregex = \"^((25[0-5]|2[0-4][0-9]|1[0-9][0-9]|[1-9]?[0-9])\\.){3}(25[0-5]|2[0-4][0-9]|1[0-9][0-9]|[1-9]?[0-9])$\"\n",
        "\n",
        "\t# Regex expression for validating IPv6\n",
        "\tregex1 = \"((([0-9a-fA-F]){1,4})\\\\:){7}\"\\\n",
        "\t\t\t\"([0-9a-fA-F]){1,4}\"\n",
        "\n",
        "\tp = re.compile(regex)\n",
        "\tp1 = re.compile(regex1)\n",
        "\n",
        "\t# Checking if it is a valid IPv4 addresses\n",
        "\tif (re.search(p, IP)):\n",
        "\t\treturn \"Valid IPv4\"\n",
        "\n",
        "\t# Checking if it is a valid IPv6 addresses\n",
        "\telif (re.search(p1, IP)):\n",
        "\t\treturn \"Valid IPv6\"\n",
        "\n",
        "\t# Return Invalid\n",
        "\treturn \"Invalid IP\"\n",
        "\n",
        "# Driver Code\n",
        "\n",
        "\n",
        "# IP addresses to validate\n",
        "IP = \"257.120.223.13\"\n",
        "print(Validate_It(IP))\n",
        "\n",
        "IP = \"fffe:3465:efab:23fe:2235:6565:aaab:0001\"\n",
        "print(Validate_It(IP))\n",
        "\n",
        "IP = \"2F33:12a0:3Ea0:0302\"\n",
        "print(Validate_It(IP))\n",
        "\n",
        "# This code is contributed by avanitrachhadiya2155\n"
      ],
      "metadata": {
        "colab": {
          "base_uri": "https://localhost:8080/"
        },
        "id": "YbZC5ihuHRwm",
        "outputId": "8cc5c71b-ba6f-4813-8219-6235387247c0"
      },
      "execution_count": 2,
      "outputs": [
        {
          "output_type": "stream",
          "name": "stdout",
          "text": [
            "Invalid IP\n",
            "Valid IPv6\n",
            "Invalid IP\n"
          ]
        }
      ]
    },
    {
      "cell_type": "code",
      "source": [
        "# Check if email address valid or not in Python\n",
        "\n",
        "import re\n",
        "\n",
        "# Make a regular expression\n",
        "# for validating an Email\n",
        "regex = r'\\b[A-Za-z0-9._%+-]+@[A-Za-z0-9.-]+\\.[A-Z|a-z]{2,7}\\b'\n",
        "\n",
        "# Define a function for\n",
        "# for validating an Email\n",
        "def check(email):\n",
        "\n",
        "\t# pass the regular expression\n",
        "\t# and the string into the fullmatch() method\n",
        "\tif(re.fullmatch(regex, email)):\n",
        "\t\tprint(\"Valid Email\")\n",
        "\n",
        "\telse:\n",
        "\t\tprint(\"Invalid Email\")\n",
        "\n",
        "# Driver Code\n",
        "if __name__ == '__main__':\n",
        "\n",
        "\t# Enter the email\n",
        "\temail = \"ankitrai326@gmail.com\"\n",
        "\n",
        "\t# calling run function\n",
        "\tcheck(email)\n",
        "\n",
        "\temail = \"my.ownsite@our-earth.org\"\n",
        "\tcheck(email)\n",
        "\n",
        "\temail = \"ankitrai326.com\"\n",
        "\tcheck(email)\n"
      ],
      "metadata": {
        "colab": {
          "base_uri": "https://localhost:8080/"
        },
        "id": "JIxGRjh0HZB5",
        "outputId": "a9b653e0-0939-4543-b05a-59f8ff3306ec"
      },
      "execution_count": 3,
      "outputs": [
        {
          "output_type": "stream",
          "name": "stdout",
          "text": [
            "Valid Email\n",
            "Valid Email\n",
            "Invalid Email\n"
          ]
        }
      ]
    },
    {
      "cell_type": "code",
      "source": [
        "# Python program to find files having a particular extension using RegEx\n",
        "\n",
        "# import library\n",
        "import re\n",
        "\n",
        "# list of different types of file\n",
        "filenames = [\"gfg.html\", \"geeks.xml\",\n",
        "\t\t\t\"computer.txt\", \"geeksforgeeks.jpg\"]\n",
        "\n",
        "for file in filenames:\n",
        "\t# search given pattern in the line\n",
        "\tmatch = re.search(\"\\.xml$\", file)\n",
        "\n",
        "\t# if match is found\n",
        "\tif match:\n",
        "\t\tprint(\"The file ending with .xml is:\",\n",
        "\t\t\tfile)\n"
      ],
      "metadata": {
        "colab": {
          "base_uri": "https://localhost:8080/"
        },
        "id": "ZlcQ7mR9HfL8",
        "outputId": "705c99f6-509e-4972-d1f9-08516218f36d"
      },
      "execution_count": 1,
      "outputs": [
        {
          "output_type": "stream",
          "name": "stdout",
          "text": [
            "The file ending with .xml is: geeks.xml\n"
          ]
        }
      ]
    },
    {
      "cell_type": "code",
      "source": [],
      "metadata": {
        "id": "gwR6uP7CXJVJ"
      },
      "execution_count": null,
      "outputs": []
    }
  ]
}